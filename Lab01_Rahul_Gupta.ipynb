{
  "cells": [
    {
      "cell_type": "markdown",
      "metadata": {
        "id": "_CrTLZ55QcQS"
      },
      "source": [
        "# Lists in Python"
      ]
    },
    {
      "cell_type": "markdown",
      "metadata": {
        "id": "QH_mHdy3QcQT"
      },
      "source": [
        "In this lab, you will create a list of random numbers and then create another list from the first list whose elements are divisible by three. You will also repeat the experiment a few times (at least ten times) and calculate the arithmetic mean of the difference of lengths of the two lists."
      ]
    },
    {
      "cell_type": "markdown",
      "metadata": {
        "id": "dXaucvqfQcQU"
      },
      "source": [
        "***"
      ]
    },
    {
      "cell_type": "markdown",
      "metadata": {
        "id": "59XsjGf0QcQU"
      },
      "source": [
        "### Task 1 (2 marks)\n",
        "\n",
        "Create a list of random numbers (at least 100 in length but I encourage you to play with the length)"
      ]
    },
    {
      "cell_type": "code",
      "execution_count": 8,
      "metadata": {
        "id": "k1i5uc45QcQU"
      },
      "outputs": [],
      "source": [
        "import random"
      ]
    },
    {
      "cell_type": "code",
      "execution_count": 9,
      "metadata": {
        "colab": {
          "base_uri": "https://localhost:8080/"
        },
        "id": "hRtr-LvqQcQV",
        "outputId": "b38c82f6-7fca-4f66-c24b-b880a6b32a8d"
      },
      "outputs": [
        {
          "output_type": "stream",
          "name": "stdout",
          "text": [
            "[23, 76, 56, 78, 4, 4, 72, 6, 11, 15, 1, 68, 23, 9, 61, 59, 14, 3, 29, 100, 8, 2, 98, 53, 66, 98, 81, 68, 23, 37, 88, 67, 27, 82, 54, 42, 97, 97, 5, 31, 60, 35, 17, 64, 86, 7, 95, 86, 85, 21, 14, 91, 11, 26, 5, 85, 47, 45, 50, 37, 66, 70, 51, 24, 25, 4, 67, 3, 69, 38, 1, 54, 25, 30, 48, 66, 81, 18, 37, 58, 81, 87, 66, 69, 24, 97, 46, 60, 7, 59, 3, 98, 22, 30, 65, 28, 5, 54, 60, 8]\n"
          ]
        }
      ],
      "source": [
        "\n",
        "list_1 = [random.randint(1,100) for x in range(0,100)]\n",
        "print(list_1)"
      ]
    },
    {
      "cell_type": "markdown",
      "metadata": {
        "id": "zTpAjeY_QcQV"
      },
      "source": [
        "### Task 2 (2 marks)\n",
        "\n",
        "Write a list comprehension to generate a second list from the one you just created. The condition of membership in the second list is divisibility by 3."
      ]
    },
    {
      "cell_type": "code",
      "execution_count": 10,
      "metadata": {
        "colab": {
          "base_uri": "https://localhost:8080/"
        },
        "id": "umh--P8AQcQV",
        "outputId": "353cafea-69e0-4db2-e25e-c20591d7873a"
      },
      "outputs": [
        {
          "output_type": "stream",
          "name": "stdout",
          "text": [
            "[99, 3, 6, 39, 9, 3, 42, 33, 42, 69, 99, 12, 72, 87, 6, 60, 63, 54, 9, 75, 33, 84, 18, 81, 30, 33]\n"
          ]
        }
      ],
      "source": [
        "list_2 = [x for x in list1 if x%3 == 0]\n",
        "print(list_2)"
      ]
    },
    {
      "cell_type": "markdown",
      "metadata": {
        "id": "Y8sx_FXpQcQV"
      },
      "source": [
        "### Task 3 (2 marks)\n",
        "\n",
        "- Determine the number of elements in the first list and the second list\n",
        "- Store both in two different variables\n",
        "- Calculate the difference in the number of elements between them"
      ]
    },
    {
      "cell_type": "code",
      "execution_count": 11,
      "metadata": {
        "colab": {
          "base_uri": "https://localhost:8080/"
        },
        "id": "LgrREGsAQcQW",
        "outputId": "1196f152-53c2-4bbf-bb3e-bf159861597b"
      },
      "outputs": [
        {
          "output_type": "stream",
          "name": "stdout",
          "text": [
            "100\n"
          ]
        }
      ],
      "source": [
        "len_of_random_list = len(list_1)\n",
        "print(len_of_random_list)"
      ]
    },
    {
      "cell_type": "code",
      "execution_count": 12,
      "metadata": {
        "colab": {
          "base_uri": "https://localhost:8080/"
        },
        "id": "uCHfXX2oQcQW",
        "outputId": "a965780c-c4e9-45f5-a1d2-125a507861ef"
      },
      "outputs": [
        {
          "output_type": "stream",
          "name": "stdout",
          "text": [
            "26\n"
          ]
        }
      ],
      "source": [
        "leng_of_3_divisible_list = len(list_2)\n",
        "print(leng_of_3_divisible_list)"
      ]
    },
    {
      "cell_type": "code",
      "execution_count": 13,
      "metadata": {
        "colab": {
          "base_uri": "https://localhost:8080/"
        },
        "id": "4zomV3s_QcQW",
        "outputId": "9036ce6b-7ab3-4b5d-b0f0-f006a5f60097"
      },
      "outputs": [
        {
          "output_type": "execute_result",
          "data": {
            "text/plain": [
              "74"
            ]
          },
          "metadata": {},
          "execution_count": 13
        }
      ],
      "source": [
        "diff_list = len_of_random_list-leng_of_3_divisible_list\n",
        "diff_list"
      ]
    },
    {
      "cell_type": "markdown",
      "metadata": {
        "id": "NUO8y5fPQcQW"
      },
      "source": [
        "### Task 4 (4 marks)\n",
        "\n",
        "- Pack `Task 1`, `Task 2`, and `Task 3` in a single loop and run the loop a total of 10 times in such a way that at the end you have a list with difference of length. That is, you first get a number named `difference` which is:\n",
        "    - `difference` = `length_of_random_list` - `length_of_3_divisible_list`\n",
        "- Then you would append the `difference` number to a list named `difference_list`\n",
        "- End the loop when desired number of experiments are finished (at least ten, please feel free to do more)\n",
        "- Calculate the arithmetic mean (common average) of the `difference_list` that you have. (How to sum all values in a list?)"
      ]
    },
    {
      "cell_type": "code",
      "execution_count": 14,
      "metadata": {
        "colab": {
          "base_uri": "https://localhost:8080/"
        },
        "id": "922Z5WMXQcQW",
        "outputId": "54495c7f-e4c4-47b7-bcf9-50c7c9459d10"
      },
      "outputs": [
        {
          "output_type": "stream",
          "name": "stdout",
          "text": [
            "[68, 72, 66, 71, 67, 68, 65, 72, 71, 66]\n",
            "Arithmetic Mean :68.6\n"
          ]
        }
      ],
      "source": [
        "difference_list = []\n",
        "for x in range(10):\n",
        "    list1 = [random.randint(1,100) for x in range(0,100)]\n",
        "    list2 = [x for x in list1 if x%3 == 0]\n",
        "    length_of_random_list = len(list1)\n",
        "    length_of_3_divisible_list = len(list2)\n",
        "    difference = length_of_random_list - length_of_3_divisible_list\n",
        "    difference_list.append(difference)\n",
        "print(difference_list)\n",
        "arithmetic_mean = sum(difference_list)/len(difference_list)\n",
        "print(f'Arithmetic Mean :{arithmetic_mean}')\n"
      ]
    },
    {
      "cell_type": "code",
      "execution_count": 14,
      "metadata": {
        "id": "hjdB2Vq0QcQW"
      },
      "outputs": [],
      "source": [
        "%%shell\n",
        "jupyter nbconvert --to html /PATH/TO/YOUR/NOTEBOOKFILE.ipynb"
      ]
    }
  ],
  "metadata": {
    "kernelspec": {
      "display_name": "Python 3 (ipykernel)",
      "language": "python",
      "name": "python3"
    },
    "language_info": {
      "codemirror_mode": {
        "name": "ipython",
        "version": 3
      },
      "file_extension": ".py",
      "mimetype": "text/x-python",
      "name": "python",
      "nbconvert_exporter": "python",
      "pygments_lexer": "ipython3",
      "version": "3.10.9"
    },
    "colab": {
      "provenance": []
    }
  },
  "nbformat": 4,
  "nbformat_minor": 0
}